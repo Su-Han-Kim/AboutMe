{
  "nbformat": 4,
  "nbformat_minor": 0,
  "metadata": {
    "colab": {
      "name": "생활코딩_Tensorflow.ipynb",
      "provenance": [],
      "authorship_tag": "ABX9TyOKzQ44DGT/pL/X/6u2uora",
      "include_colab_link": true
    },
    "kernelspec": {
      "name": "python3",
      "display_name": "Python 3"
    },
    "language_info": {
      "name": "python"
    }
  },
  "cells": [
    {
      "cell_type": "markdown",
      "metadata": {
        "id": "view-in-github",
        "colab_type": "text"
      },
      "source": [
        "<a href=\"https://colab.research.google.com/github/Su-Han-Kim/AboutMe/blob/main/%EC%83%9D%ED%99%9C%EC%BD%94%EB%94%A9_Tensorflow.ipynb\" target=\"_parent\"><img src=\"https://colab.research.google.com/assets/colab-badge.svg\" alt=\"Open In Colab\"/></a>"
      ]
    },
    {
      "cell_type": "markdown",
      "source": [
        "# 0. 지도학습의 과정\n",
        "1. 과거의 데이터 준비 \n",
        "2. 모델의 구조를 만든다\n",
        "3. 데이터로 모델을 학습(fitting model)\n",
        "4. 모델을 이용하여 예측"
      ],
      "metadata": {
        "id": "RfhH19t1vSy3"
      }
    },
    {
      "cell_type": "markdown",
      "source": [
        "# 1. Pandas"
      ],
      "metadata": {
        "id": "BRKHndUhwnb6"
      }
    },
    {
      "cell_type": "code",
      "source": [
        "import pandas as pd\n",
        " \n",
        "###########################\n",
        "# 파일로부터 데이터 읽어오기\n",
        "파일경로 = 'https://raw.githubusercontent.com/blackdew/tensorflow1/master/csv/lemonade.csv'\n",
        "레모네이드 = pd.read_csv(파일경로)\n",
        " \n",
        "파일경로 = 'https://raw.githubusercontent.com/blackdew/tensorflow1/master/csv/boston.csv'\n",
        "보스턴 = pd.read_csv(파일경로)\n",
        " \n",
        "파일경로 = 'https://raw.githubusercontent.com/blackdew/tensorflow1/master/csv/iris.csv'\n",
        "아이리스 = pd.read_csv(파일경로)\n",
        " \n"
      ],
      "metadata": {
        "id": "R3jswnyBwqn3"
      },
      "execution_count": null,
      "outputs": []
    },
    {
      "cell_type": "code",
      "source": [
        "# 데이터의 모양확인\n",
        "print(레모네이드.shape)\n",
        "print(보스턴.shape)\n",
        "print(아이리스.shape)\n",
        "\n",
        "# 각각의 데이터 확인해보기\n",
        "print(레모네이드.head())\n",
        "print(보스턴.head())\n",
        "print(아이리스.head())\n"
      ],
      "metadata": {
        "colab": {
          "base_uri": "https://localhost:8080/"
        },
        "id": "5tsFk0MixAfd",
        "outputId": "bdc71dcb-5c62-4b1f-aa3f-0381740b4899"
      },
      "execution_count": null,
      "outputs": [
        {
          "output_type": "stream",
          "name": "stdout",
          "text": [
            "(6, 2)\n",
            "(506, 14)\n",
            "(150, 5)\n",
            "   온도  판매량\n",
            "0  20   40\n",
            "1  21   42\n",
            "2  22   44\n",
            "3  23   46\n",
            "4  24   48\n",
            "      crim    zn  indus  chas    nox     rm   age     dis  rad  tax  ptratio  \\\n",
            "0  0.00632  18.0   2.31     0  0.538  6.575  65.2  4.0900    1  296     15.3   \n",
            "1  0.02731   0.0   7.07     0  0.469  6.421  78.9  4.9671    2  242     17.8   \n",
            "2  0.02729   0.0   7.07     0  0.469  7.185  61.1  4.9671    2  242     17.8   \n",
            "3  0.03237   0.0   2.18     0  0.458  6.998  45.8  6.0622    3  222     18.7   \n",
            "4  0.06905   0.0   2.18     0  0.458  7.147  54.2  6.0622    3  222     18.7   \n",
            "\n",
            "        b  lstat  medv  \n",
            "0  396.90   4.98  24.0  \n",
            "1  396.90   9.14  21.6  \n",
            "2  392.83   4.03  34.7  \n",
            "3  394.63   2.94  33.4  \n",
            "4  396.90   5.33  36.2  \n",
            "   꽃잎길이  꽃잎폭  꽃받침길이  꽃받침폭      품종\n",
            "0   5.1  3.5    1.4   0.2  setosa\n",
            "1   4.9  3.0    1.4   0.2  setosa\n",
            "2   4.7  3.2    1.3   0.2  setosa\n",
            "3   4.6  3.1    1.5   0.2  setosa\n",
            "4   5.0  3.6    1.4   0.2  setosa\n"
          ]
        }
      ]
    },
    {
      "cell_type": "code",
      "source": [
        "# 독립변수와 종속변수 분리\n",
        "독립 = 레모네이드[['온도']]\n",
        "종속 = 레모네이드[['판매량']]\n",
        "print(독립.shape, 종속.shape)\n",
        " \n",
        "독립 = 보스턴[['crim', 'zn', 'indus', 'chas', 'nox', \n",
        "            'rm', 'age', 'dis', 'rad', 'tax',\n",
        "            'ptratio', 'b', 'lstat']]\n",
        "종속 = 보스턴[['medv']]\n",
        "print(독립.shape, 종속.shape)\n",
        " \n",
        "독립 = 아이리스[['꽃잎길이', '꽃잎폭', '꽃받침길이', '꽃받침폭']]\n",
        "종속 = 아이리스[['품종']]\n",
        "print(독립.shape, 종속.shape)\n"
      ],
      "metadata": {
        "colab": {
          "base_uri": "https://localhost:8080/"
        },
        "id": "sVTm4-1OxMct",
        "outputId": "c9f1d11a-16f4-4294-a645-5f1b7d8fb5c6"
      },
      "execution_count": null,
      "outputs": [
        {
          "output_type": "stream",
          "name": "stdout",
          "text": [
            "(6, 1) (6, 1)\n",
            "(506, 13) (506, 1)\n",
            "(150, 4) (150, 1)\n"
          ]
        }
      ]
    },
    {
      "cell_type": "markdown",
      "source": [
        "# 2. 첫번째 딥러닝 - 레모네이드 판매 예측"
      ],
      "metadata": {
        "id": "KiQjwATDnhIt"
      }
    },
    {
      "cell_type": "markdown",
      "source": [
        "## 1. Loss\n"
      ],
      "metadata": {
        "id": "-AT9ghBznk2_"
      }
    },
    {
      "cell_type": "markdown",
      "source": [
        "- 모델의 학습이 얼마나 진행되었는가\n",
        "- 모델의 예측값과 정답이 얼마나 차이나는가\n",
        "- Loss = mean((예측 - 결과)^2)"
      ],
      "metadata": {
        "id": "5GCVCa94nmrz"
      }
    },
    {
      "cell_type": "code",
      "source": [
        "import tensorflow as tf\n",
        "import pandas as pd\n",
        "\n",
        "# 데이터를 준비합니다.\n",
        "파일경로 = 'https://raw.githubusercontent.com/blackdew/tensorflow1/master/csv/lemonade.csv'\n",
        "레모네이드 = pd.read_csv(파일경로)\n",
        "레모네이드.head()\n",
        "\n",
        "# 종속변수, 독립변수\n",
        "독립 = 레모네이드[['온도']]\n",
        "종속 = 레모네이드[['판매량']]\n",
        "print(독립.shape, 종속.shape)"
      ],
      "metadata": {
        "colab": {
          "base_uri": "https://localhost:8080/"
        },
        "id": "0cXp4MrjofCW",
        "outputId": "f9228c1a-0ed0-485e-d41c-80d1c3f090b4"
      },
      "execution_count": null,
      "outputs": [
        {
          "output_type": "stream",
          "name": "stdout",
          "text": [
            "(6, 1) (6, 1)\n"
          ]
        }
      ]
    },
    {
      "cell_type": "code",
      "source": [
        "# 모델을 만듭니다.\n",
        "X = tf.keras.layers.Input(shape=[1]) #독립변수의 column의 개수\n",
        "Y = tf.keras.layers.Dense(1)(X) #종속변수의 column의 개수\n",
        "model = tf.keras.models.Model(X, Y) \n",
        "model.compile(loss='mse')"
      ],
      "metadata": {
        "id": "44SGZZojo6JJ"
      },
      "execution_count": null,
      "outputs": []
    },
    {
      "cell_type": "code",
      "source": [
        "# 모델을 학습시킵니다. \n",
        "#epoch: 모델을 몇 번 학습 시킬 것인가 \n",
        "#verbose=0: 화면출력X\n",
        "model.fit(독립, 종속, epochs=1000, verbose=0) "
      ],
      "metadata": {
        "colab": {
          "base_uri": "https://localhost:8080/"
        },
        "id": "Bk8xvkl1pV4y",
        "outputId": "e3671845-2e7a-472c-cc53-ebd78e142de8"
      },
      "execution_count": null,
      "outputs": [
        {
          "output_type": "execute_result",
          "data": {
            "text/plain": [
              "<keras.callbacks.History at 0x7f9e507d6490>"
            ]
          },
          "metadata": {},
          "execution_count": 37
        }
      ]
    },
    {
      "cell_type": "code",
      "source": [
        "# 모델을 이용합니다. \n",
        "print(model.predict(독립))\n"
      ],
      "metadata": {
        "colab": {
          "base_uri": "https://localhost:8080/"
        },
        "id": "Ui2Q5G1-qBNq",
        "outputId": "60f42480-2269-41fe-f469-c3b5a0f0f6a2"
      },
      "execution_count": null,
      "outputs": [
        {
          "output_type": "stream",
          "name": "stdout",
          "text": [
            "[[40.059322]\n",
            " [42.032223]\n",
            " [44.005127]\n",
            " [45.978027]\n",
            " [47.950928]\n",
            " [49.923832]]\n"
          ]
        }
      ]
    },
    {
      "cell_type": "code",
      "source": [
        "print(model.predict([[15]]))"
      ],
      "metadata": {
        "colab": {
          "base_uri": "https://localhost:8080/"
        },
        "id": "mxGfzfhXqVfn",
        "outputId": "00f48e03-58bd-42ec-b9ce-8f649a1cca9e"
      },
      "execution_count": null,
      "outputs": [
        {
          "output_type": "stream",
          "name": "stdout",
          "text": [
            "[[30.19481]]\n"
          ]
        }
      ]
    },
    {
      "cell_type": "code",
      "source": [
        "print(model.get_weights())"
      ],
      "metadata": {
        "colab": {
          "base_uri": "https://localhost:8080/"
        },
        "id": "kJmaaEOTsII6",
        "outputId": "5941c55b-08ba-40df-8c3f-2717e4890688"
      },
      "execution_count": null,
      "outputs": [
        {
          "output_type": "stream",
          "name": "stdout",
          "text": [
            "[array([[1.9729017]], dtype=float32), array([0.60128665], dtype=float32)]\n"
          ]
        }
      ]
    },
    {
      "cell_type": "markdown",
      "source": [
        "# 3. 두번째 딥러닝 - 보스턴 집값 예측"
      ],
      "metadata": {
        "id": "noTOKIafqAsA"
      }
    },
    {
      "cell_type": "markdown",
      "source": [
        "## 1. 수식과 퍼셉트론"
      ],
      "metadata": {
        "id": "Ow2BdrVApUTb"
      }
    },
    {
      "cell_type": "markdown",
      "source": [
        "- model를 fit하는 과정\n",
        "  1. Input layer: 독립변수 N개의 입력을 받는 입력층을 구성\n",
        "  2. Dense layer: 종속변수 M개의 출력을 만드는 출력층을 구성\n",
        "  3. 독립변수 N개의 입력으로부터 M개의 출력을 만들어내는 구조를 만드는 것\n",
        "  4. **수식**: y1 = w1x1 + w2x2 + ... b / y2 = w1x1 + w2x2 + ... b ...  \n",
        "    -> **퍼셉트론**: 다수의 입력으로부터 하나의 결과를 내보내는 알고리즘\n",
        "  5. 컴퓨터는 학습과정에서 입력된 데이터를 보고 w(가중치)와 b(편향)를 찾는 것\n"
      ],
      "metadata": {
        "id": "-rwGLWMDt1OG"
      }
    },
    {
      "cell_type": "code",
      "source": [
        "import tensorflow as tf\n",
        "import pandas as pd\n",
        "\n",
        "파일경로 = 'https://raw.githubusercontent.com/blackdew/tensorflow1/master/csv/boston.csv'\n",
        "보스턴 = pd.read_csv(파일경로)\n",
        "\n",
        "독립 = 보스턴[['crim', 'zn', 'indus', 'chas', 'nox', \n",
        "            'rm', 'age', 'dis', 'rad', 'tax',\n",
        "            'ptratio', 'b', 'lstat']]\n",
        "종속 = 보스턴[['medv']] #해당 도시의 집값의 median\n",
        "print(독립.shape, 종속.shape)"
      ],
      "metadata": {
        "colab": {
          "base_uri": "https://localhost:8080/"
        },
        "id": "FF7Z2uW0q_WL",
        "outputId": "a54e68ad-8ed0-4869-c6ab-469252263355"
      },
      "execution_count": null,
      "outputs": [
        {
          "output_type": "stream",
          "name": "stdout",
          "text": [
            "(506, 13) (506, 1)\n"
          ]
        }
      ]
    },
    {
      "cell_type": "code",
      "source": [
        "# 모델을 만듭니다.\n",
        "X = tf.keras.layers.Input(shape=[13]) #독립변수의 column의 개수\n",
        "Y = tf.keras.layers.Dense(1)(X) #종속변수의 column의 개수\n",
        "model = tf.keras.models.Model(X, Y) \n",
        "model.compile(loss='mse')"
      ],
      "metadata": {
        "id": "Z16nx26HrbzC"
      },
      "execution_count": null,
      "outputs": []
    },
    {
      "cell_type": "code",
      "source": [
        "# 모델을 학습시킵니다. \n",
        "#epoch: 모델을 몇 번 학습 시킬 것인가 \n",
        "#verbose=0: 화면출력X\n",
        "model.fit(독립, 종속, epochs=10) "
      ],
      "metadata": {
        "colab": {
          "base_uri": "https://localhost:8080/"
        },
        "id": "mAjR4fO5rgAq",
        "outputId": "05b96fa9-1650-47b6-f1f4-9a414f4dbab2"
      },
      "execution_count": null,
      "outputs": [
        {
          "output_type": "stream",
          "name": "stdout",
          "text": [
            "Epoch 1/10\n",
            "16/16 [==============================] - 0s 2ms/step - loss: 27.1956\n",
            "Epoch 2/10\n",
            "16/16 [==============================] - 0s 2ms/step - loss: 26.4537\n",
            "Epoch 3/10\n",
            "16/16 [==============================] - 0s 2ms/step - loss: 26.5892\n",
            "Epoch 4/10\n",
            "16/16 [==============================] - 0s 2ms/step - loss: 26.6399\n",
            "Epoch 5/10\n",
            "16/16 [==============================] - 0s 2ms/step - loss: 27.0057\n",
            "Epoch 6/10\n",
            "16/16 [==============================] - 0s 2ms/step - loss: 26.5121\n",
            "Epoch 7/10\n",
            "16/16 [==============================] - 0s 2ms/step - loss: 26.8543\n",
            "Epoch 8/10\n",
            "16/16 [==============================] - 0s 2ms/step - loss: 26.7119\n",
            "Epoch 9/10\n",
            "16/16 [==============================] - 0s 2ms/step - loss: 26.4802\n",
            "Epoch 10/10\n",
            "16/16 [==============================] - 0s 2ms/step - loss: 26.9513\n"
          ]
        },
        {
          "output_type": "execute_result",
          "data": {
            "text/plain": [
              "<keras.callbacks.History at 0x7f9e50902b90>"
            ]
          },
          "metadata": {},
          "execution_count": 23
        }
      ]
    },
    {
      "cell_type": "code",
      "source": [
        "# 4. 모델을 이용합니다\n",
        "print(model.predict(독립[5:10]))\n",
        "# 종속변수 확인\n",
        "print(종속[5:10])"
      ],
      "metadata": {
        "colab": {
          "base_uri": "https://localhost:8080/"
        },
        "id": "XlMwVka5r_a6",
        "outputId": "8d828d7d-a0af-4c39-daba-d78e8e9292e0"
      },
      "execution_count": null,
      "outputs": [
        {
          "output_type": "stream",
          "name": "stdout",
          "text": [
            "[[26.61534 ]\n",
            " [21.45558 ]\n",
            " [18.363708]\n",
            " [ 9.69677 ]\n",
            " [18.011045]]\n",
            "   medv\n",
            "5  28.7\n",
            "6  22.9\n",
            "7  27.1\n",
            "8  16.5\n",
            "9  18.9\n"
          ]
        }
      ]
    },
    {
      "cell_type": "code",
      "source": [
        "# 모델의 수식 확인\n",
        "print(model.get_weights())"
      ],
      "metadata": {
        "colab": {
          "base_uri": "https://localhost:8080/"
        },
        "id": "3rQP9UG2sCZe",
        "outputId": "1d27da2b-52b3-473b-de60-f968c28b7244"
      },
      "execution_count": null,
      "outputs": [
        {
          "output_type": "stream",
          "name": "stdout",
          "text": [
            "[array([[-0.08981714],\n",
            "       [ 0.07509096],\n",
            "       [-0.05291929],\n",
            "       [ 3.3951948 ],\n",
            "       [ 1.5365646 ],\n",
            "       [ 3.8505714 ],\n",
            "       [ 0.01958147],\n",
            "       [-0.8489031 ],\n",
            "       [ 0.14704806],\n",
            "       [-0.00910299],\n",
            "       [ 0.03042164],\n",
            "       [ 0.01673809],\n",
            "       [-0.5909596 ]], dtype=float32), array([2.760172], dtype=float32)]\n"
          ]
        }
      ]
    },
    {
      "cell_type": "markdown",
      "source": [
        "# 4. 세번째 딥러닝 - 아이리스 품종 분류"
      ],
      "metadata": {
        "id": "67WIg8ppsB-q"
      }
    },
    {
      "cell_type": "markdown",
      "source": [
        "## 1. One-hot encoding"
      ],
      "metadata": {
        "id": "utiAMKePr-3Y"
      }
    },
    {
      "cell_type": "markdown",
      "source": [
        "- 범주형 변수의 경우 숫자만 들어가야 할 퍼셉트론에 적합하지 않음\n",
        "- one-hot encoding: 범주형 변수를 1, 0의 숫자형 데이터로 바꿔주는 것"
      ],
      "metadata": {
        "id": "KLBe7sGCrfhe"
      }
    },
    {
      "cell_type": "markdown",
      "source": [
        "## 2. Softmax & Cross-entropy"
      ],
      "metadata": {
        "id": "0LQpv45LrbU_"
      }
    },
    {
      "cell_type": "markdown",
      "source": [
        "- Classification이란 분류를 확률로 추측하는 것: ex) 비가 올 확률, 품종이 setosa일 확률... \n",
        "- 확률의 특징은 0 이상 1 이하\n",
        "- softmax를 사용하는 이유: 분류를 확률(0과 1 사이의 결과)로 예측하기 위해 필요함 \n",
        "- 수식은 -inf ~ inf까지 예측이 가능하지만 Classification에서는 0과 1사이의 예측만 필요함\n",
        "- 활성화 함수: 최종 결과를 만들기 전, 퍼셉트론의 출력이 어떤 형태로 나가야 하는지 조절하는 함수 ex) softmax(y1 = w1x1 + w2x2 + ... b) \n",
        "- Cross-entropy: Classification에 사용하는 Loss 함수"
      ],
      "metadata": {
        "id": "TLdPPEtXDwAn"
      }
    },
    {
      "cell_type": "code",
      "source": [
        "# 라이브러리 사용\n",
        "import tensorflow as tf\n",
        "import pandas as pd\n",
        "\n",
        "파일경로 = 'https://raw.githubusercontent.com/blackdew/tensorflow1/master/csv/iris.csv'\n",
        "아이리스 = pd.read_csv(파일경로)\n",
        "아이리스.head()"
      ],
      "metadata": {
        "colab": {
          "base_uri": "https://localhost:8080/",
          "height": 206
        },
        "id": "ZgfXfwYDBkA3",
        "outputId": "0e8972b0-66b5-43ac-a438-4c8290dacc62"
      },
      "execution_count": null,
      "outputs": [
        {
          "output_type": "execute_result",
          "data": {
            "text/plain": [
              "   꽃잎길이  꽃잎폭  꽃받침길이  꽃받침폭      품종\n",
              "0   5.1  3.5    1.4   0.2  setosa\n",
              "1   4.9  3.0    1.4   0.2  setosa\n",
              "2   4.7  3.2    1.3   0.2  setosa\n",
              "3   4.6  3.1    1.5   0.2  setosa\n",
              "4   5.0  3.6    1.4   0.2  setosa"
            ],
            "text/html": [
              "\n",
              "  <div id=\"df-edbdaa55-d22d-4722-aa08-428035ecd80e\">\n",
              "    <div class=\"colab-df-container\">\n",
              "      <div>\n",
              "<style scoped>\n",
              "    .dataframe tbody tr th:only-of-type {\n",
              "        vertical-align: middle;\n",
              "    }\n",
              "\n",
              "    .dataframe tbody tr th {\n",
              "        vertical-align: top;\n",
              "    }\n",
              "\n",
              "    .dataframe thead th {\n",
              "        text-align: right;\n",
              "    }\n",
              "</style>\n",
              "<table border=\"1\" class=\"dataframe\">\n",
              "  <thead>\n",
              "    <tr style=\"text-align: right;\">\n",
              "      <th></th>\n",
              "      <th>꽃잎길이</th>\n",
              "      <th>꽃잎폭</th>\n",
              "      <th>꽃받침길이</th>\n",
              "      <th>꽃받침폭</th>\n",
              "      <th>품종</th>\n",
              "    </tr>\n",
              "  </thead>\n",
              "  <tbody>\n",
              "    <tr>\n",
              "      <th>0</th>\n",
              "      <td>5.1</td>\n",
              "      <td>3.5</td>\n",
              "      <td>1.4</td>\n",
              "      <td>0.2</td>\n",
              "      <td>setosa</td>\n",
              "    </tr>\n",
              "    <tr>\n",
              "      <th>1</th>\n",
              "      <td>4.9</td>\n",
              "      <td>3.0</td>\n",
              "      <td>1.4</td>\n",
              "      <td>0.2</td>\n",
              "      <td>setosa</td>\n",
              "    </tr>\n",
              "    <tr>\n",
              "      <th>2</th>\n",
              "      <td>4.7</td>\n",
              "      <td>3.2</td>\n",
              "      <td>1.3</td>\n",
              "      <td>0.2</td>\n",
              "      <td>setosa</td>\n",
              "    </tr>\n",
              "    <tr>\n",
              "      <th>3</th>\n",
              "      <td>4.6</td>\n",
              "      <td>3.1</td>\n",
              "      <td>1.5</td>\n",
              "      <td>0.2</td>\n",
              "      <td>setosa</td>\n",
              "    </tr>\n",
              "    <tr>\n",
              "      <th>4</th>\n",
              "      <td>5.0</td>\n",
              "      <td>3.6</td>\n",
              "      <td>1.4</td>\n",
              "      <td>0.2</td>\n",
              "      <td>setosa</td>\n",
              "    </tr>\n",
              "  </tbody>\n",
              "</table>\n",
              "</div>\n",
              "      <button class=\"colab-df-convert\" onclick=\"convertToInteractive('df-edbdaa55-d22d-4722-aa08-428035ecd80e')\"\n",
              "              title=\"Convert this dataframe to an interactive table.\"\n",
              "              style=\"display:none;\">\n",
              "        \n",
              "  <svg xmlns=\"http://www.w3.org/2000/svg\" height=\"24px\"viewBox=\"0 0 24 24\"\n",
              "       width=\"24px\">\n",
              "    <path d=\"M0 0h24v24H0V0z\" fill=\"none\"/>\n",
              "    <path d=\"M18.56 5.44l.94 2.06.94-2.06 2.06-.94-2.06-.94-.94-2.06-.94 2.06-2.06.94zm-11 1L8.5 8.5l.94-2.06 2.06-.94-2.06-.94L8.5 2.5l-.94 2.06-2.06.94zm10 10l.94 2.06.94-2.06 2.06-.94-2.06-.94-.94-2.06-.94 2.06-2.06.94z\"/><path d=\"M17.41 7.96l-1.37-1.37c-.4-.4-.92-.59-1.43-.59-.52 0-1.04.2-1.43.59L10.3 9.45l-7.72 7.72c-.78.78-.78 2.05 0 2.83L4 21.41c.39.39.9.59 1.41.59.51 0 1.02-.2 1.41-.59l7.78-7.78 2.81-2.81c.8-.78.8-2.07 0-2.86zM5.41 20L4 18.59l7.72-7.72 1.47 1.35L5.41 20z\"/>\n",
              "  </svg>\n",
              "      </button>\n",
              "      \n",
              "  <style>\n",
              "    .colab-df-container {\n",
              "      display:flex;\n",
              "      flex-wrap:wrap;\n",
              "      gap: 12px;\n",
              "    }\n",
              "\n",
              "    .colab-df-convert {\n",
              "      background-color: #E8F0FE;\n",
              "      border: none;\n",
              "      border-radius: 50%;\n",
              "      cursor: pointer;\n",
              "      display: none;\n",
              "      fill: #1967D2;\n",
              "      height: 32px;\n",
              "      padding: 0 0 0 0;\n",
              "      width: 32px;\n",
              "    }\n",
              "\n",
              "    .colab-df-convert:hover {\n",
              "      background-color: #E2EBFA;\n",
              "      box-shadow: 0px 1px 2px rgba(60, 64, 67, 0.3), 0px 1px 3px 1px rgba(60, 64, 67, 0.15);\n",
              "      fill: #174EA6;\n",
              "    }\n",
              "\n",
              "    [theme=dark] .colab-df-convert {\n",
              "      background-color: #3B4455;\n",
              "      fill: #D2E3FC;\n",
              "    }\n",
              "\n",
              "    [theme=dark] .colab-df-convert:hover {\n",
              "      background-color: #434B5C;\n",
              "      box-shadow: 0px 1px 3px 1px rgba(0, 0, 0, 0.15);\n",
              "      filter: drop-shadow(0px 1px 2px rgba(0, 0, 0, 0.3));\n",
              "      fill: #FFFFFF;\n",
              "    }\n",
              "  </style>\n",
              "\n",
              "      <script>\n",
              "        const buttonEl =\n",
              "          document.querySelector('#df-edbdaa55-d22d-4722-aa08-428035ecd80e button.colab-df-convert');\n",
              "        buttonEl.style.display =\n",
              "          google.colab.kernel.accessAllowed ? 'block' : 'none';\n",
              "\n",
              "        async function convertToInteractive(key) {\n",
              "          const element = document.querySelector('#df-edbdaa55-d22d-4722-aa08-428035ecd80e');\n",
              "          const dataTable =\n",
              "            await google.colab.kernel.invokeFunction('convertToInteractive',\n",
              "                                                     [key], {});\n",
              "          if (!dataTable) return;\n",
              "\n",
              "          const docLinkHtml = 'Like what you see? Visit the ' +\n",
              "            '<a target=\"_blank\" href=https://colab.research.google.com/notebooks/data_table.ipynb>data table notebook</a>'\n",
              "            + ' to learn more about interactive tables.';\n",
              "          element.innerHTML = '';\n",
              "          dataTable['output_type'] = 'display_data';\n",
              "          await google.colab.output.renderOutput(dataTable, element);\n",
              "          const docLink = document.createElement('div');\n",
              "          docLink.innerHTML = docLinkHtml;\n",
              "          element.appendChild(docLink);\n",
              "        }\n",
              "      </script>\n",
              "    </div>\n",
              "  </div>\n",
              "  "
            ]
          },
          "metadata": {},
          "execution_count": 1
        }
      ]
    },
    {
      "cell_type": "code",
      "source": [
        "# 원핫인코딩\n",
        "아이리스 = pd.get_dummies(아이리스)\n",
        "print(아이리스)\n",
        "독립 = 아이리스[['꽃잎길이', '꽃잎폭', '꽃받침길이', '꽃받침폭']]\n",
        "종속 = 아이리스[['품종_setosa', '품종_versicolor', '품종_virginica']] # one-hot enncoding으로 인해 종속변수가 3개로 늘어남\n",
        "print(독립.shape, 종속.shape)"
      ],
      "metadata": {
        "colab": {
          "base_uri": "https://localhost:8080/"
        },
        "id": "y052-Zn4B7KV",
        "outputId": "30fef475-b7df-4759-e30f-2fa032aa8f27"
      },
      "execution_count": null,
      "outputs": [
        {
          "output_type": "stream",
          "name": "stdout",
          "text": [
            "     꽃잎길이  꽃잎폭  꽃받침길이  꽃받침폭  품종_setosa  품종_versicolor  품종_virginica\n",
            "0     5.1  3.5    1.4   0.2          1              0             0\n",
            "1     4.9  3.0    1.4   0.2          1              0             0\n",
            "2     4.7  3.2    1.3   0.2          1              0             0\n",
            "3     4.6  3.1    1.5   0.2          1              0             0\n",
            "4     5.0  3.6    1.4   0.2          1              0             0\n",
            "..    ...  ...    ...   ...        ...            ...           ...\n",
            "145   6.7  3.0    5.2   2.3          0              0             1\n",
            "146   6.3  2.5    5.0   1.9          0              0             1\n",
            "147   6.5  3.0    5.2   2.0          0              0             1\n",
            "148   6.2  3.4    5.4   2.3          0              0             1\n",
            "149   5.9  3.0    5.1   1.8          0              0             1\n",
            "\n",
            "[150 rows x 7 columns]\n",
            "(150, 4) (150, 3)\n"
          ]
        }
      ]
    },
    {
      "cell_type": "code",
      "source": [
        "X = tf.keras.layers.Input(shape=[4])\n",
        "Y = tf.keras.layers.Dense(3, activation='softmax')(X)\n",
        "model = tf.keras.models.Model(X, Y)\n",
        "model.compile(loss='categorical_crossentropy',\n",
        "              metrics='accuracy')"
      ],
      "metadata": {
        "id": "t17t75JnD1d5"
      },
      "execution_count": null,
      "outputs": []
    },
    {
      "cell_type": "code",
      "source": [
        "model.fit(독립, 종속, epochs=1000, verbose=0)\n",
        "model.fit(독립, 종속, epochs=10)"
      ],
      "metadata": {
        "colab": {
          "base_uri": "https://localhost:8080/"
        },
        "id": "XQzil5jAD4cX",
        "outputId": "f48cd1a6-599c-4616-9a22-b832c44b4eaa"
      },
      "execution_count": null,
      "outputs": [
        {
          "output_type": "stream",
          "name": "stdout",
          "text": [
            "Epoch 1/10\n",
            "5/5 [==============================] - 0s 3ms/step - loss: 0.0964 - accuracy: 0.9733\n",
            "Epoch 2/10\n",
            "5/5 [==============================] - 0s 3ms/step - loss: 0.0958 - accuracy: 0.9733\n",
            "Epoch 3/10\n",
            "5/5 [==============================] - 0s 3ms/step - loss: 0.0964 - accuracy: 0.9733\n",
            "Epoch 4/10\n",
            "5/5 [==============================] - 0s 3ms/step - loss: 0.0958 - accuracy: 0.9733\n",
            "Epoch 5/10\n",
            "5/5 [==============================] - 0s 4ms/step - loss: 0.0959 - accuracy: 0.9733\n",
            "Epoch 6/10\n",
            "5/5 [==============================] - 0s 3ms/step - loss: 0.0958 - accuracy: 0.9733\n",
            "Epoch 7/10\n",
            "5/5 [==============================] - 0s 3ms/step - loss: 0.0968 - accuracy: 0.9733\n",
            "Epoch 8/10\n",
            "5/5 [==============================] - 0s 3ms/step - loss: 0.0958 - accuracy: 0.9733\n",
            "Epoch 9/10\n",
            "5/5 [==============================] - 0s 3ms/step - loss: 0.0960 - accuracy: 0.9733\n",
            "Epoch 10/10\n",
            "5/5 [==============================] - 0s 3ms/step - loss: 0.0960 - accuracy: 0.9733\n"
          ]
        },
        {
          "output_type": "execute_result",
          "data": {
            "text/plain": [
              "<keras.callbacks.History at 0x7fe79cc57ad0>"
            ]
          },
          "metadata": {},
          "execution_count": 7
        }
      ]
    },
    {
      "cell_type": "code",
      "source": [
        "# 4. 모델을 이용합니다\n",
        "# 맨 처음 데이터 5개\n",
        "print(model.predict(독립[:5]))\n",
        "print(종속[:5])\n",
        " \n",
        "# 맨 마지막 데이터 5개\n",
        "print(model.predict(독립[-5:]))\n",
        "print(종속[-5:])\n",
        " \n",
        "###########################\n",
        "# weights & bias 출력\n",
        "print(model.get_weights())"
      ],
      "metadata": {
        "colab": {
          "base_uri": "https://localhost:8080/"
        },
        "id": "MdMyVrLnF6iD",
        "outputId": "84cdaa3f-b01c-4c2b-e4c0-54b5c45a1c07"
      },
      "execution_count": null,
      "outputs": [
        {
          "output_type": "stream",
          "name": "stdout",
          "text": [
            "[[9.9998105e-01 1.8955692e-05 2.2302511e-12]\n",
            " [9.9986005e-01 1.3998458e-04 7.3136726e-11]\n",
            " [9.9994493e-01 5.5046792e-05 1.8530715e-11]\n",
            " [9.9974078e-01 2.5923239e-04 2.1505651e-10]\n",
            " [9.9998450e-01 1.5510152e-05 1.6660912e-12]]\n",
            "   품종_setosa  품종_versicolor  품종_virginica\n",
            "0          1              0             0\n",
            "1          1              0             0\n",
            "2          1              0             0\n",
            "3          1              0             0\n",
            "4          1              0             0\n",
            "[[1.5948406e-10 4.9943786e-02 9.5005625e-01]\n",
            " [6.9516065e-10 9.4695315e-02 9.0530461e-01]\n",
            " [1.6270392e-09 1.4532538e-01 8.5467470e-01]\n",
            " [7.9977983e-11 3.7526079e-02 9.6247393e-01]\n",
            " [4.3998472e-09 1.9433257e-01 8.0566746e-01]]\n",
            "     품종_setosa  품종_versicolor  품종_virginica\n",
            "145          0              0             1\n",
            "146          0              0             1\n",
            "147          0              0             1\n",
            "148          0              0             1\n",
            "149          0              0             1\n",
            "[array([[ 1.7193602 ,  0.29580066, -1.1837124 ],\n",
            "       [ 5.3222604 ,  1.89258   , -0.49719083],\n",
            "       [-6.1297245 , -0.8076128 ,  1.7673872 ],\n",
            "       [-7.308545  , -2.1778593 ,  2.7214067 ]], dtype=float32), array([ 2.5154078,  2.4289596, -2.201679 ], dtype=float32)]\n"
          ]
        }
      ]
    },
    {
      "cell_type": "markdown",
      "source": [
        "# 5. 네번째 딥러닝 - 신경망의 완성:히든레이어"
      ],
      "metadata": {
        "id": "rT2wenp1F6DR"
      }
    },
    {
      "cell_type": "markdown",
      "source": [
        "- 히든 레이어: Input과 output layer사이에 추가한 퍼셉트론"
      ],
      "metadata": {
        "id": "oxSBLKB308Ml"
      }
    },
    {
      "cell_type": "code",
      "source": [
        "# 라이브러리 사용\n",
        "import tensorflow as tf\n",
        "import pandas as pd"
      ],
      "metadata": {
        "id": "bJzsuv1U1pjG"
      },
      "execution_count": 1,
      "outputs": []
    },
    {
      "cell_type": "code",
      "source": [
        "# 1.과거의 데이터를 준비합니다.\n",
        "파일경로 = 'https://raw.githubusercontent.com/blackdew/tensorflow1/master/csv/boston.csv'\n",
        "보스턴 = pd.read_csv(파일경로)\n",
        " \n",
        "# 종속변수, 독립변수\n",
        "독립 = 보스턴[['crim', 'zn', 'indus', 'chas', 'nox', \n",
        "            'rm', 'age', 'dis', 'rad', 'tax',\n",
        "            'ptratio', 'b', 'lstat']]\n",
        "종속 = 보스턴[['medv']]\n",
        "print(독립.shape, 종속.shape)"
      ],
      "metadata": {
        "colab": {
          "base_uri": "https://localhost:8080/"
        },
        "id": "lAELDHH33FGI",
        "outputId": "35ada47e-f9f8-477d-de46-90e09e6325fd"
      },
      "execution_count": 2,
      "outputs": [
        {
          "output_type": "stream",
          "name": "stdout",
          "text": [
            "(506, 13) (506, 1)\n"
          ]
        }
      ]
    },
    {
      "cell_type": "code",
      "source": [
        "# 2. 모델의 구조를 만듭니다\n",
        "X = tf.keras.layers.Input(shape=[13])\n",
        "H = tf.keras.layers.Dense(10, activation='swish')(X)\n",
        "Y = tf.keras.layers.Dense(1)(H)\n",
        "model = tf.keras.models.Model(X, Y)\n",
        "model.compile(loss='mse')\n",
        "\n"
      ],
      "metadata": {
        "colab": {
          "base_uri": "https://localhost:8080/"
        },
        "id": "UAthIENa3ILe",
        "outputId": "3ad6ade0-4c79-4470-f3ca-3805267d6802"
      },
      "execution_count": 10,
      "outputs": [
        {
          "output_type": "stream",
          "name": "stdout",
          "text": [
            "Model: \"model_2\"\n",
            "_________________________________________________________________\n",
            " Layer (type)                Output Shape              Param #   \n",
            "=================================================================\n",
            " input_3 (InputLayer)        [(None, 13)]              0         \n",
            "                                                                 \n",
            " dense_4 (Dense)             (None, 10)                140       \n",
            "                                                                 \n",
            " dense_5 (Dense)             (None, 1)                 11        \n",
            "                                                                 \n",
            "=================================================================\n",
            "Total params: 151\n",
            "Trainable params: 151\n",
            "Non-trainable params: 0\n",
            "_________________________________________________________________\n"
          ]
        }
      ]
    },
    {
      "cell_type": "code",
      "source": [
        "# 3.데이터로 모델을 학습(FIT)합니다.\n",
        "model.fit(독립, 종속, epochs=100)"
      ],
      "metadata": {
        "colab": {
          "base_uri": "https://localhost:8080/"
        },
        "id": "txdlRkxv3YmP",
        "outputId": "783f759f-b95f-4ef9-f0e0-c1b83107d113"
      },
      "execution_count": 16,
      "outputs": [
        {
          "output_type": "stream",
          "name": "stdout",
          "text": [
            "Epoch 1/100\n",
            "16/16 [==============================] - 0s 2ms/step - loss: 27.2571\n",
            "Epoch 2/100\n",
            "16/16 [==============================] - 0s 2ms/step - loss: 28.2023\n",
            "Epoch 3/100\n",
            "16/16 [==============================] - 0s 2ms/step - loss: 26.5122\n",
            "Epoch 4/100\n",
            "16/16 [==============================] - 0s 2ms/step - loss: 27.5410\n",
            "Epoch 5/100\n",
            "16/16 [==============================] - 0s 2ms/step - loss: 25.8185\n",
            "Epoch 6/100\n",
            "16/16 [==============================] - 0s 2ms/step - loss: 28.1673\n",
            "Epoch 7/100\n",
            "16/16 [==============================] - 0s 2ms/step - loss: 27.9616\n",
            "Epoch 8/100\n",
            "16/16 [==============================] - 0s 2ms/step - loss: 27.7252\n",
            "Epoch 9/100\n",
            "16/16 [==============================] - 0s 2ms/step - loss: 26.0639\n",
            "Epoch 10/100\n",
            "16/16 [==============================] - 0s 2ms/step - loss: 28.4616\n",
            "Epoch 11/100\n",
            "16/16 [==============================] - 0s 2ms/step - loss: 27.5323\n",
            "Epoch 12/100\n",
            "16/16 [==============================] - 0s 2ms/step - loss: 25.7907\n",
            "Epoch 13/100\n",
            "16/16 [==============================] - 0s 2ms/step - loss: 27.4283\n",
            "Epoch 14/100\n",
            "16/16 [==============================] - 0s 2ms/step - loss: 27.5618\n",
            "Epoch 15/100\n",
            "16/16 [==============================] - 0s 2ms/step - loss: 26.6010\n",
            "Epoch 16/100\n",
            "16/16 [==============================] - 0s 2ms/step - loss: 26.0172\n",
            "Epoch 17/100\n",
            "16/16 [==============================] - 0s 2ms/step - loss: 27.2346\n",
            "Epoch 18/100\n",
            "16/16 [==============================] - 0s 2ms/step - loss: 27.1563\n",
            "Epoch 19/100\n",
            "16/16 [==============================] - 0s 2ms/step - loss: 28.2548\n",
            "Epoch 20/100\n",
            "16/16 [==============================] - 0s 2ms/step - loss: 26.6295\n",
            "Epoch 21/100\n",
            "16/16 [==============================] - 0s 2ms/step - loss: 26.7636\n",
            "Epoch 22/100\n",
            "16/16 [==============================] - 0s 2ms/step - loss: 28.5309\n",
            "Epoch 23/100\n",
            "16/16 [==============================] - 0s 2ms/step - loss: 26.3437\n",
            "Epoch 24/100\n",
            "16/16 [==============================] - 0s 2ms/step - loss: 27.2904\n",
            "Epoch 25/100\n",
            "16/16 [==============================] - 0s 2ms/step - loss: 26.0013\n",
            "Epoch 26/100\n",
            "16/16 [==============================] - 0s 2ms/step - loss: 26.3342\n",
            "Epoch 27/100\n",
            "16/16 [==============================] - 0s 2ms/step - loss: 26.0736\n",
            "Epoch 28/100\n",
            "16/16 [==============================] - 0s 2ms/step - loss: 27.8812\n",
            "Epoch 29/100\n",
            "16/16 [==============================] - 0s 2ms/step - loss: 26.5743\n",
            "Epoch 30/100\n",
            "16/16 [==============================] - 0s 2ms/step - loss: 27.0247\n",
            "Epoch 31/100\n",
            "16/16 [==============================] - 0s 2ms/step - loss: 27.1241\n",
            "Epoch 32/100\n",
            "16/16 [==============================] - 0s 2ms/step - loss: 26.1216\n",
            "Epoch 33/100\n",
            "16/16 [==============================] - 0s 2ms/step - loss: 27.6360\n",
            "Epoch 34/100\n",
            "16/16 [==============================] - 0s 2ms/step - loss: 26.6455\n",
            "Epoch 35/100\n",
            "16/16 [==============================] - 0s 2ms/step - loss: 27.2279\n",
            "Epoch 36/100\n",
            "16/16 [==============================] - 0s 2ms/step - loss: 27.2778\n",
            "Epoch 37/100\n",
            "16/16 [==============================] - 0s 3ms/step - loss: 26.3581\n",
            "Epoch 38/100\n",
            "16/16 [==============================] - 0s 2ms/step - loss: 26.7538\n",
            "Epoch 39/100\n",
            "16/16 [==============================] - 0s 2ms/step - loss: 25.9623\n",
            "Epoch 40/100\n",
            "16/16 [==============================] - 0s 2ms/step - loss: 27.1384\n",
            "Epoch 41/100\n",
            "16/16 [==============================] - 0s 2ms/step - loss: 26.6906\n",
            "Epoch 42/100\n",
            "16/16 [==============================] - 0s 2ms/step - loss: 26.8910\n",
            "Epoch 43/100\n",
            "16/16 [==============================] - 0s 2ms/step - loss: 27.2423\n",
            "Epoch 44/100\n",
            "16/16 [==============================] - 0s 2ms/step - loss: 27.0618\n",
            "Epoch 45/100\n",
            "16/16 [==============================] - 0s 2ms/step - loss: 27.9911\n",
            "Epoch 46/100\n",
            "16/16 [==============================] - 0s 2ms/step - loss: 26.3485\n",
            "Epoch 47/100\n",
            "16/16 [==============================] - 0s 2ms/step - loss: 27.2480\n",
            "Epoch 48/100\n",
            "16/16 [==============================] - 0s 2ms/step - loss: 26.7000\n",
            "Epoch 49/100\n",
            "16/16 [==============================] - 0s 2ms/step - loss: 27.0360\n",
            "Epoch 50/100\n",
            "16/16 [==============================] - 0s 2ms/step - loss: 28.1274\n",
            "Epoch 51/100\n",
            "16/16 [==============================] - 0s 2ms/step - loss: 26.4642\n",
            "Epoch 52/100\n",
            "16/16 [==============================] - 0s 2ms/step - loss: 27.1965\n",
            "Epoch 53/100\n",
            "16/16 [==============================] - 0s 3ms/step - loss: 26.9912\n",
            "Epoch 54/100\n",
            "16/16 [==============================] - 0s 2ms/step - loss: 27.8871\n",
            "Epoch 55/100\n",
            "16/16 [==============================] - 0s 2ms/step - loss: 25.8473\n",
            "Epoch 56/100\n",
            "16/16 [==============================] - 0s 2ms/step - loss: 27.2439\n",
            "Epoch 57/100\n",
            "16/16 [==============================] - 0s 2ms/step - loss: 24.8923\n",
            "Epoch 58/100\n",
            "16/16 [==============================] - 0s 2ms/step - loss: 28.1114\n",
            "Epoch 59/100\n",
            "16/16 [==============================] - 0s 2ms/step - loss: 26.0885\n",
            "Epoch 60/100\n",
            "16/16 [==============================] - 0s 3ms/step - loss: 26.6258\n",
            "Epoch 61/100\n",
            "16/16 [==============================] - 0s 3ms/step - loss: 26.2592\n",
            "Epoch 62/100\n",
            "16/16 [==============================] - 0s 3ms/step - loss: 28.0401\n",
            "Epoch 63/100\n",
            "16/16 [==============================] - 0s 3ms/step - loss: 25.4291\n",
            "Epoch 64/100\n",
            "16/16 [==============================] - 0s 3ms/step - loss: 25.9246\n",
            "Epoch 65/100\n",
            "16/16 [==============================] - 0s 3ms/step - loss: 26.5712\n",
            "Epoch 66/100\n",
            "16/16 [==============================] - 0s 2ms/step - loss: 25.9933\n",
            "Epoch 67/100\n",
            "16/16 [==============================] - 0s 3ms/step - loss: 26.4498\n",
            "Epoch 68/100\n",
            "16/16 [==============================] - 0s 2ms/step - loss: 25.8779\n",
            "Epoch 69/100\n",
            "16/16 [==============================] - 0s 2ms/step - loss: 26.5012\n",
            "Epoch 70/100\n",
            "16/16 [==============================] - 0s 3ms/step - loss: 26.7978\n",
            "Epoch 71/100\n",
            "16/16 [==============================] - 0s 3ms/step - loss: 26.2440\n",
            "Epoch 72/100\n",
            "16/16 [==============================] - 0s 2ms/step - loss: 26.8721\n",
            "Epoch 73/100\n",
            "16/16 [==============================] - 0s 2ms/step - loss: 26.4829\n",
            "Epoch 74/100\n",
            "16/16 [==============================] - 0s 3ms/step - loss: 25.6917\n",
            "Epoch 75/100\n",
            "16/16 [==============================] - 0s 2ms/step - loss: 26.6462\n",
            "Epoch 76/100\n",
            "16/16 [==============================] - 0s 2ms/step - loss: 27.5603\n",
            "Epoch 77/100\n",
            "16/16 [==============================] - 0s 3ms/step - loss: 25.8930\n",
            "Epoch 78/100\n",
            "16/16 [==============================] - 0s 2ms/step - loss: 26.6046\n",
            "Epoch 79/100\n",
            "16/16 [==============================] - 0s 2ms/step - loss: 26.2878\n",
            "Epoch 80/100\n",
            "16/16 [==============================] - 0s 2ms/step - loss: 26.8700\n",
            "Epoch 81/100\n",
            "16/16 [==============================] - 0s 3ms/step - loss: 25.4283\n",
            "Epoch 82/100\n",
            "16/16 [==============================] - 0s 3ms/step - loss: 27.1432\n",
            "Epoch 83/100\n",
            "16/16 [==============================] - 0s 3ms/step - loss: 26.3710\n",
            "Epoch 84/100\n",
            "16/16 [==============================] - 0s 3ms/step - loss: 26.4593\n",
            "Epoch 85/100\n",
            "16/16 [==============================] - 0s 3ms/step - loss: 26.8288\n",
            "Epoch 86/100\n",
            "16/16 [==============================] - 0s 2ms/step - loss: 26.5948\n",
            "Epoch 87/100\n",
            "16/16 [==============================] - 0s 2ms/step - loss: 26.4930\n",
            "Epoch 88/100\n",
            "16/16 [==============================] - 0s 2ms/step - loss: 26.2266\n",
            "Epoch 89/100\n",
            "16/16 [==============================] - 0s 2ms/step - loss: 27.0942\n",
            "Epoch 90/100\n",
            "16/16 [==============================] - 0s 2ms/step - loss: 26.5671\n",
            "Epoch 91/100\n",
            "16/16 [==============================] - 0s 2ms/step - loss: 25.8178\n",
            "Epoch 92/100\n",
            "16/16 [==============================] - 0s 2ms/step - loss: 26.1184\n",
            "Epoch 93/100\n",
            "16/16 [==============================] - 0s 2ms/step - loss: 26.9267\n",
            "Epoch 94/100\n",
            "16/16 [==============================] - 0s 2ms/step - loss: 26.5547\n",
            "Epoch 95/100\n",
            "16/16 [==============================] - 0s 2ms/step - loss: 26.5576\n",
            "Epoch 96/100\n",
            "16/16 [==============================] - 0s 2ms/step - loss: 25.0687\n",
            "Epoch 97/100\n",
            "16/16 [==============================] - 0s 2ms/step - loss: 26.4979\n",
            "Epoch 98/100\n",
            "16/16 [==============================] - 0s 2ms/step - loss: 26.5868\n",
            "Epoch 99/100\n",
            "16/16 [==============================] - 0s 2ms/step - loss: 26.6163\n",
            "Epoch 100/100\n",
            "16/16 [==============================] - 0s 2ms/step - loss: 26.2303\n"
          ]
        },
        {
          "output_type": "execute_result",
          "data": {
            "text/plain": [
              "<keras.callbacks.History at 0x7f8f5d51bd10>"
            ]
          },
          "metadata": {},
          "execution_count": 16
        }
      ]
    },
    {
      "cell_type": "code",
      "source": [
        "# 모델 구조 확인\n",
        "model.summary()"
      ],
      "metadata": {
        "colab": {
          "base_uri": "https://localhost:8080/"
        },
        "id": "ya_9Q-K533Hv",
        "outputId": "d2a0d72e-d22c-40ba-9cbd-90b54446c0e6"
      },
      "execution_count": 15,
      "outputs": [
        {
          "output_type": "stream",
          "name": "stdout",
          "text": [
            "Model: \"model_2\"\n",
            "_________________________________________________________________\n",
            " Layer (type)                Output Shape              Param #   \n",
            "=================================================================\n",
            " input_3 (InputLayer)        [(None, 13)]              0         \n",
            "                                                                 \n",
            " dense_4 (Dense)             (None, 10)                140       \n",
            "                                                                 \n",
            " dense_5 (Dense)             (None, 1)                 11        \n",
            "                                                                 \n",
            "=================================================================\n",
            "Total params: 151\n",
            "Trainable params: 151\n",
            "Non-trainable params: 0\n",
            "_________________________________________________________________\n"
          ]
        }
      ]
    },
    {
      "cell_type": "code",
      "source": [
        "# 4. 모델을 이용합니다\n",
        "print(model.predict(독립[:5]))\n",
        "print(종속[:5])"
      ],
      "metadata": {
        "colab": {
          "base_uri": "https://localhost:8080/"
        },
        "id": "AedUTIX_3ebf",
        "outputId": "77d52980-7290-4d0c-c04b-e211c2e3fa45"
      },
      "execution_count": 17,
      "outputs": [
        {
          "output_type": "stream",
          "name": "stdout",
          "text": [
            "[[28.870955]\n",
            " [25.374535]\n",
            " [28.893562]\n",
            " [29.364683]\n",
            " [28.693426]]\n",
            "   medv\n",
            "0  24.0\n",
            "1  21.6\n",
            "2  34.7\n",
            "3  33.4\n",
            "4  36.2\n"
          ]
        }
      ]
    },
    {
      "cell_type": "code",
      "source": [
        "# 이산형\n",
        "\n",
        "# 1.과거의 데이터를 준비합니다.\n",
        "파일경로 = 'https://raw.githubusercontent.com/blackdew/tensorflow1/master/csv/iris.csv'\n",
        "아이리스 = pd.read_csv(파일경로)"
      ],
      "metadata": {
        "id": "JOL0E1xW4ILd"
      },
      "execution_count": 18,
      "outputs": []
    },
    {
      "cell_type": "code",
      "source": [
        "# 원핫인코딩\n",
        "아이리스 = pd.get_dummies(아이리스)"
      ],
      "metadata": {
        "id": "zLejySHI4OUf"
      },
      "execution_count": 19,
      "outputs": []
    },
    {
      "cell_type": "code",
      "source": [
        "# 종속변수, 독립변수\n",
        "독립 = 아이리스[['꽃잎길이', '꽃잎폭', '꽃받침길이', '꽃받침폭']]\n",
        "종속 = 아이리스[['품종_setosa', '품종_versicolor', '품종_virginica']]\n",
        "print(독립.shape, 종속.shape)"
      ],
      "metadata": {
        "colab": {
          "base_uri": "https://localhost:8080/"
        },
        "id": "Kir1g46a4Q-I",
        "outputId": "0b639670-d706-48cd-e5ac-a0fa45ee9abb"
      },
      "execution_count": 20,
      "outputs": [
        {
          "output_type": "stream",
          "name": "stdout",
          "text": [
            "(150, 4) (150, 3)\n"
          ]
        }
      ]
    },
    {
      "cell_type": "code",
      "source": [
        "X = tf.keras.layers.Input(shape=[4])\n",
        "H = tf.keras.layers.Dense(8, activation=\"swish\")(X)\n",
        "H = tf.keras.layers.Dense(8, activation=\"swish\")(H)\n",
        "H = tf.keras.layers.Dense(8, activation=\"swish\")(H)\n",
        "Y = tf.keras.layers.Dense(3, activation='softmax')(H)\n",
        "model = tf.keras.models.Model(X, Y)\n",
        "model.compile(loss='categorical_crossentropy',\n",
        "              metrics='accuracy')"
      ],
      "metadata": {
        "id": "Dvga-m664TQW"
      },
      "execution_count": 21,
      "outputs": []
    },
    {
      "cell_type": "code",
      "source": [
        "# 3.데이터로 모델을 학습(FIT)합니다.\n",
        "model.fit(독립, 종속, epochs=100)"
      ],
      "metadata": {
        "colab": {
          "base_uri": "https://localhost:8080/"
        },
        "id": "63UrqdEd4aq3",
        "outputId": "7cb18a6b-b333-478a-a347-fced96c15986"
      },
      "execution_count": 22,
      "outputs": [
        {
          "output_type": "stream",
          "name": "stdout",
          "text": [
            "Epoch 1/100\n",
            "5/5 [==============================] - 1s 4ms/step - loss: 1.4723 - accuracy: 0.2867\n",
            "Epoch 2/100\n",
            "5/5 [==============================] - 0s 3ms/step - loss: 1.2790 - accuracy: 0.4133\n",
            "Epoch 3/100\n",
            "5/5 [==============================] - 0s 3ms/step - loss: 1.1878 - accuracy: 0.4800\n",
            "Epoch 4/100\n",
            "5/5 [==============================] - 0s 3ms/step - loss: 1.1196 - accuracy: 0.5267\n",
            "Epoch 5/100\n",
            "5/5 [==============================] - 0s 4ms/step - loss: 1.0655 - accuracy: 0.5867\n",
            "Epoch 6/100\n",
            "5/5 [==============================] - 0s 4ms/step - loss: 1.0220 - accuracy: 0.6200\n",
            "Epoch 7/100\n",
            "5/5 [==============================] - 0s 3ms/step - loss: 0.9812 - accuracy: 0.6933\n",
            "Epoch 8/100\n",
            "5/5 [==============================] - 0s 3ms/step - loss: 0.9460 - accuracy: 0.6600\n",
            "Epoch 9/100\n",
            "5/5 [==============================] - 0s 3ms/step - loss: 0.9078 - accuracy: 0.6600\n",
            "Epoch 10/100\n",
            "5/5 [==============================] - 0s 3ms/step - loss: 0.8719 - accuracy: 0.6600\n",
            "Epoch 11/100\n",
            "5/5 [==============================] - 0s 3ms/step - loss: 0.8396 - accuracy: 0.6667\n",
            "Epoch 12/100\n",
            "5/5 [==============================] - 0s 4ms/step - loss: 0.8072 - accuracy: 0.6667\n",
            "Epoch 13/100\n",
            "5/5 [==============================] - 0s 4ms/step - loss: 0.7720 - accuracy: 0.6667\n",
            "Epoch 14/100\n",
            "5/5 [==============================] - 0s 4ms/step - loss: 0.7418 - accuracy: 0.7000\n",
            "Epoch 15/100\n",
            "5/5 [==============================] - 0s 3ms/step - loss: 0.7122 - accuracy: 0.6867\n",
            "Epoch 16/100\n",
            "5/5 [==============================] - 0s 3ms/step - loss: 0.6850 - accuracy: 0.6867\n",
            "Epoch 17/100\n",
            "5/5 [==============================] - 0s 3ms/step - loss: 0.6572 - accuracy: 0.6800\n",
            "Epoch 18/100\n",
            "5/5 [==============================] - 0s 3ms/step - loss: 0.6266 - accuracy: 0.6933\n",
            "Epoch 19/100\n",
            "5/5 [==============================] - 0s 3ms/step - loss: 0.6024 - accuracy: 0.7000\n",
            "Epoch 20/100\n",
            "5/5 [==============================] - 0s 4ms/step - loss: 0.5759 - accuracy: 0.7000\n",
            "Epoch 21/100\n",
            "5/5 [==============================] - 0s 3ms/step - loss: 0.5541 - accuracy: 0.7333\n",
            "Epoch 22/100\n",
            "5/5 [==============================] - 0s 4ms/step - loss: 0.5316 - accuracy: 0.7000\n",
            "Epoch 23/100\n",
            "5/5 [==============================] - 0s 4ms/step - loss: 0.5114 - accuracy: 0.7933\n",
            "Epoch 24/100\n",
            "5/5 [==============================] - 0s 4ms/step - loss: 0.4924 - accuracy: 0.8600\n",
            "Epoch 25/100\n",
            "5/5 [==============================] - 0s 5ms/step - loss: 0.4758 - accuracy: 0.7667\n",
            "Epoch 26/100\n",
            "5/5 [==============================] - 0s 4ms/step - loss: 0.4595 - accuracy: 0.9000\n",
            "Epoch 27/100\n",
            "5/5 [==============================] - 0s 4ms/step - loss: 0.4422 - accuracy: 0.8867\n",
            "Epoch 28/100\n",
            "5/5 [==============================] - 0s 3ms/step - loss: 0.4249 - accuracy: 0.8733\n",
            "Epoch 29/100\n",
            "5/5 [==============================] - 0s 5ms/step - loss: 0.4096 - accuracy: 0.8933\n",
            "Epoch 30/100\n",
            "5/5 [==============================] - 0s 3ms/step - loss: 0.3948 - accuracy: 0.8933\n",
            "Epoch 31/100\n",
            "5/5 [==============================] - 0s 4ms/step - loss: 0.3791 - accuracy: 0.9733\n",
            "Epoch 32/100\n",
            "5/5 [==============================] - 0s 3ms/step - loss: 0.3660 - accuracy: 0.8867\n",
            "Epoch 33/100\n",
            "5/5 [==============================] - 0s 3ms/step - loss: 0.3505 - accuracy: 0.9267\n",
            "Epoch 34/100\n",
            "5/5 [==============================] - 0s 4ms/step - loss: 0.3375 - accuracy: 0.9600\n",
            "Epoch 35/100\n",
            "5/5 [==============================] - 0s 4ms/step - loss: 0.3224 - accuracy: 0.9667\n",
            "Epoch 36/100\n",
            "5/5 [==============================] - 0s 4ms/step - loss: 0.3099 - accuracy: 0.9667\n",
            "Epoch 37/100\n",
            "5/5 [==============================] - 0s 3ms/step - loss: 0.2958 - accuracy: 0.9733\n",
            "Epoch 38/100\n",
            "5/5 [==============================] - 0s 3ms/step - loss: 0.2881 - accuracy: 0.9600\n",
            "Epoch 39/100\n",
            "5/5 [==============================] - 0s 4ms/step - loss: 0.2714 - accuracy: 0.9733\n",
            "Epoch 40/100\n",
            "5/5 [==============================] - 0s 4ms/step - loss: 0.2635 - accuracy: 0.9667\n",
            "Epoch 41/100\n",
            "5/5 [==============================] - 0s 4ms/step - loss: 0.2491 - accuracy: 0.9733\n",
            "Epoch 42/100\n",
            "5/5 [==============================] - 0s 3ms/step - loss: 0.2453 - accuracy: 0.9733\n",
            "Epoch 43/100\n",
            "5/5 [==============================] - 0s 3ms/step - loss: 0.2305 - accuracy: 0.9733\n",
            "Epoch 44/100\n",
            "5/5 [==============================] - 0s 4ms/step - loss: 0.2194 - accuracy: 0.9733\n",
            "Epoch 45/100\n",
            "5/5 [==============================] - 0s 4ms/step - loss: 0.2124 - accuracy: 0.9800\n",
            "Epoch 46/100\n",
            "5/5 [==============================] - 0s 3ms/step - loss: 0.2050 - accuracy: 0.9800\n",
            "Epoch 47/100\n",
            "5/5 [==============================] - 0s 4ms/step - loss: 0.1953 - accuracy: 0.9800\n",
            "Epoch 48/100\n",
            "5/5 [==============================] - 0s 4ms/step - loss: 0.1856 - accuracy: 0.9800\n",
            "Epoch 49/100\n",
            "5/5 [==============================] - 0s 3ms/step - loss: 0.1864 - accuracy: 0.9733\n",
            "Epoch 50/100\n",
            "5/5 [==============================] - 0s 3ms/step - loss: 0.1749 - accuracy: 0.9800\n",
            "Epoch 51/100\n",
            "5/5 [==============================] - 0s 4ms/step - loss: 0.1690 - accuracy: 0.9733\n",
            "Epoch 52/100\n",
            "5/5 [==============================] - 0s 4ms/step - loss: 0.1621 - accuracy: 0.9800\n",
            "Epoch 53/100\n",
            "5/5 [==============================] - 0s 3ms/step - loss: 0.1576 - accuracy: 0.9800\n",
            "Epoch 54/100\n",
            "5/5 [==============================] - 0s 4ms/step - loss: 0.1509 - accuracy: 0.9800\n",
            "Epoch 55/100\n",
            "5/5 [==============================] - 0s 3ms/step - loss: 0.1511 - accuracy: 0.9800\n",
            "Epoch 56/100\n",
            "5/5 [==============================] - 0s 3ms/step - loss: 0.1446 - accuracy: 0.9800\n",
            "Epoch 57/100\n",
            "5/5 [==============================] - 0s 3ms/step - loss: 0.1379 - accuracy: 0.9800\n",
            "Epoch 58/100\n",
            "5/5 [==============================] - 0s 3ms/step - loss: 0.1389 - accuracy: 0.9733\n",
            "Epoch 59/100\n",
            "5/5 [==============================] - 0s 3ms/step - loss: 0.1330 - accuracy: 0.9800\n",
            "Epoch 60/100\n",
            "5/5 [==============================] - 0s 3ms/step - loss: 0.1331 - accuracy: 0.9800\n",
            "Epoch 61/100\n",
            "5/5 [==============================] - 0s 3ms/step - loss: 0.1233 - accuracy: 0.9800\n",
            "Epoch 62/100\n",
            "5/5 [==============================] - 0s 4ms/step - loss: 0.1289 - accuracy: 0.9733\n",
            "Epoch 63/100\n",
            "5/5 [==============================] - 0s 3ms/step - loss: 0.1183 - accuracy: 0.9733\n",
            "Epoch 64/100\n",
            "5/5 [==============================] - 0s 4ms/step - loss: 0.1199 - accuracy: 0.9867\n",
            "Epoch 65/100\n",
            "5/5 [==============================] - 0s 4ms/step - loss: 0.1162 - accuracy: 0.9800\n",
            "Epoch 66/100\n",
            "5/5 [==============================] - 0s 3ms/step - loss: 0.1115 - accuracy: 0.9800\n",
            "Epoch 67/100\n",
            "5/5 [==============================] - 0s 3ms/step - loss: 0.1079 - accuracy: 0.9800\n",
            "Epoch 68/100\n",
            "5/5 [==============================] - 0s 3ms/step - loss: 0.1043 - accuracy: 0.9867\n",
            "Epoch 69/100\n",
            "5/5 [==============================] - 0s 4ms/step - loss: 0.1118 - accuracy: 0.9800\n",
            "Epoch 70/100\n",
            "5/5 [==============================] - 0s 4ms/step - loss: 0.1077 - accuracy: 0.9800\n",
            "Epoch 71/100\n",
            "5/5 [==============================] - 0s 3ms/step - loss: 0.0988 - accuracy: 0.9800\n",
            "Epoch 72/100\n",
            "5/5 [==============================] - 0s 4ms/step - loss: 0.1022 - accuracy: 0.9733\n",
            "Epoch 73/100\n",
            "5/5 [==============================] - 0s 4ms/step - loss: 0.0962 - accuracy: 0.9733\n",
            "Epoch 74/100\n",
            "5/5 [==============================] - 0s 4ms/step - loss: 0.0961 - accuracy: 0.9800\n",
            "Epoch 75/100\n",
            "5/5 [==============================] - 0s 3ms/step - loss: 0.0940 - accuracy: 0.9867\n",
            "Epoch 76/100\n",
            "5/5 [==============================] - 0s 4ms/step - loss: 0.0919 - accuracy: 0.9800\n",
            "Epoch 77/100\n",
            "5/5 [==============================] - 0s 4ms/step - loss: 0.0940 - accuracy: 0.9800\n",
            "Epoch 78/100\n",
            "5/5 [==============================] - 0s 4ms/step - loss: 0.0923 - accuracy: 0.9800\n",
            "Epoch 79/100\n",
            "5/5 [==============================] - 0s 3ms/step - loss: 0.0862 - accuracy: 0.9867\n",
            "Epoch 80/100\n",
            "5/5 [==============================] - 0s 4ms/step - loss: 0.0891 - accuracy: 0.9733\n",
            "Epoch 81/100\n",
            "5/5 [==============================] - 0s 3ms/step - loss: 0.0835 - accuracy: 0.9800\n",
            "Epoch 82/100\n",
            "5/5 [==============================] - 0s 4ms/step - loss: 0.0835 - accuracy: 0.9800\n",
            "Epoch 83/100\n",
            "5/5 [==============================] - 0s 3ms/step - loss: 0.0821 - accuracy: 0.9733\n",
            "Epoch 84/100\n",
            "5/5 [==============================] - 0s 4ms/step - loss: 0.0867 - accuracy: 0.9800\n",
            "Epoch 85/100\n",
            "5/5 [==============================] - 0s 4ms/step - loss: 0.0833 - accuracy: 0.9800\n",
            "Epoch 86/100\n",
            "5/5 [==============================] - 0s 3ms/step - loss: 0.0847 - accuracy: 0.9800\n",
            "Epoch 87/100\n",
            "5/5 [==============================] - 0s 4ms/step - loss: 0.0820 - accuracy: 0.9867\n",
            "Epoch 88/100\n",
            "5/5 [==============================] - 0s 4ms/step - loss: 0.0780 - accuracy: 0.9867\n",
            "Epoch 89/100\n",
            "5/5 [==============================] - 0s 3ms/step - loss: 0.0780 - accuracy: 0.9800\n",
            "Epoch 90/100\n",
            "5/5 [==============================] - 0s 4ms/step - loss: 0.0829 - accuracy: 0.9800\n",
            "Epoch 91/100\n",
            "5/5 [==============================] - 0s 3ms/step - loss: 0.0760 - accuracy: 0.9867\n",
            "Epoch 92/100\n",
            "5/5 [==============================] - 0s 3ms/step - loss: 0.0759 - accuracy: 0.9800\n",
            "Epoch 93/100\n",
            "5/5 [==============================] - 0s 5ms/step - loss: 0.0786 - accuracy: 0.9800\n",
            "Epoch 94/100\n",
            "5/5 [==============================] - 0s 3ms/step - loss: 0.0742 - accuracy: 0.9800\n",
            "Epoch 95/100\n",
            "5/5 [==============================] - 0s 3ms/step - loss: 0.0760 - accuracy: 0.9867\n",
            "Epoch 96/100\n",
            "5/5 [==============================] - 0s 3ms/step - loss: 0.0775 - accuracy: 0.9867\n",
            "Epoch 97/100\n",
            "5/5 [==============================] - 0s 3ms/step - loss: 0.0751 - accuracy: 0.9733\n",
            "Epoch 98/100\n",
            "5/5 [==============================] - 0s 4ms/step - loss: 0.0745 - accuracy: 0.9733\n",
            "Epoch 99/100\n",
            "5/5 [==============================] - 0s 4ms/step - loss: 0.0704 - accuracy: 0.9867\n",
            "Epoch 100/100\n",
            "5/5 [==============================] - 0s 3ms/step - loss: 0.0695 - accuracy: 0.9800\n"
          ]
        },
        {
          "output_type": "execute_result",
          "data": {
            "text/plain": [
              "<keras.callbacks.History at 0x7f8f5d510c50>"
            ]
          },
          "metadata": {},
          "execution_count": 22
        }
      ]
    },
    {
      "cell_type": "code",
      "source": [
        "model.summary()"
      ],
      "metadata": {
        "colab": {
          "base_uri": "https://localhost:8080/"
        },
        "id": "kF5IyeF14eFW",
        "outputId": "61e4a9b1-0c41-4d17-9bea-fd2b481c8e04"
      },
      "execution_count": 23,
      "outputs": [
        {
          "output_type": "stream",
          "name": "stdout",
          "text": [
            "Model: \"model_3\"\n",
            "_________________________________________________________________\n",
            " Layer (type)                Output Shape              Param #   \n",
            "=================================================================\n",
            " input_4 (InputLayer)        [(None, 4)]               0         \n",
            "                                                                 \n",
            " dense_6 (Dense)             (None, 8)                 40        \n",
            "                                                                 \n",
            " dense_7 (Dense)             (None, 8)                 72        \n",
            "                                                                 \n",
            " dense_8 (Dense)             (None, 8)                 72        \n",
            "                                                                 \n",
            " dense_9 (Dense)             (None, 3)                 27        \n",
            "                                                                 \n",
            "=================================================================\n",
            "Total params: 211\n",
            "Trainable params: 211\n",
            "Non-trainable params: 0\n",
            "_________________________________________________________________\n"
          ]
        }
      ]
    },
    {
      "cell_type": "code",
      "source": [
        "# 4. 모델을 이용합니다\n",
        "print(model.predict(독립[:5]))\n",
        "print(종속[:5])"
      ],
      "metadata": {
        "colab": {
          "base_uri": "https://localhost:8080/"
        },
        "id": "k247Q8TC4ltZ",
        "outputId": "ec41c62b-cbe0-4b40-b18a-02aab98ba6c9"
      },
      "execution_count": 24,
      "outputs": [
        {
          "output_type": "stream",
          "name": "stdout",
          "text": [
            "[[9.9855596e-01 1.4439690e-03 1.5180724e-07]\n",
            " [9.9791008e-01 2.0895479e-03 3.0332566e-07]\n",
            " [9.9750888e-01 2.4905968e-03 5.2806189e-07]\n",
            " [9.9570787e-01 4.2911777e-03 9.6345354e-07]\n",
            " [9.9825698e-01 1.7427859e-03 2.1510003e-07]]\n",
            "   품종_setosa  품종_versicolor  품종_virginica\n",
            "0          1              0             0\n",
            "1          1              0             0\n",
            "2          1              0             0\n",
            "3          1              0             0\n",
            "4          1              0             0\n"
          ]
        }
      ]
    }
  ]
}